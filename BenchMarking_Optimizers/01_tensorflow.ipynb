{
 "cells": [
  {
   "cell_type": "code",
   "execution_count": 1,
   "metadata": {
    "collapsed": false,
    "deletable": true,
    "editable": true
   },
   "outputs": [
    {
     "name": "stderr",
     "output_type": "stream",
     "text": [
      "Using TensorFlow backend.\n"
     ]
    }
   ],
   "source": [
    "from keras.datasets import mnist\n",
    "import pandas as pd\n",
    "import numpy as np"
   ]
  },
  {
   "cell_type": "code",
   "execution_count": 2,
   "metadata": {
    "collapsed": false,
    "deletable": true,
    "editable": true
   },
   "outputs": [
    {
     "name": "stdout",
     "output_type": "stream",
     "text": [
      "60000 train samples\n",
      "10000 test samples\n"
     ]
    }
   ],
   "source": [
    "(x_train, y_train), (x_test, y_test) = mnist.load_data()\n",
    "\n",
    "x_train = x_train.reshape(60000, 784)\n",
    "x_test = x_test.reshape(10000, 784)\n",
    "x_train = x_train.astype('float32')\n",
    "x_test = x_test.astype('float32')\n",
    "x_train /= 255\n",
    "x_test /= 255\n",
    "print(x_train.shape[0], 'train samples')\n",
    "print(x_test.shape[0], 'test samples')"
   ]
  },
  {
   "cell_type": "code",
   "execution_count": 3,
   "metadata": {
    "collapsed": true,
    "deletable": true,
    "editable": true
   },
   "outputs": [],
   "source": [
    "y_train = pd.get_dummies(pd.Series(y_train)).values\n",
    "y_test = pd.get_dummies(pd.Series(y_test)).values"
   ]
  },
  {
   "cell_type": "code",
   "execution_count": 4,
   "metadata": {
    "collapsed": false,
    "deletable": true,
    "editable": true
   },
   "outputs": [
    {
     "data": {
      "text/plain": [
       "numpy.ndarray"
      ]
     },
     "execution_count": 4,
     "metadata": {},
     "output_type": "execute_result"
    }
   ],
   "source": [
    "type(y_train)"
   ]
  },
  {
   "cell_type": "code",
   "execution_count": 5,
   "metadata": {
    "collapsed": false,
    "deletable": true,
    "editable": true
   },
   "outputs": [],
   "source": [
    "from tensorflow_mlp import *\n",
    "from prakash_layers import model"
   ]
  },
  {
   "cell_type": "code",
   "execution_count": 6,
   "metadata": {
    "collapsed": false,
    "deletable": true,
    "editable": true
   },
   "outputs": [],
   "source": [
    "M = Model(x_train, y_train, x_test, y_test, model)"
   ]
  },
  {
   "cell_type": "code",
   "execution_count": 7,
   "metadata": {
    "collapsed": false
   },
   "outputs": [
    {
     "data": {
      "text/plain": [
       "[(<tf.Tensor 'Placeholder:0' shape=(?, 784) dtype=float32>,),\n",
       " (<tf.Tensor 'Placeholder_1:0' shape=(?, 10) dtype=float32>,),\n",
       " (<tf.Tensor 'FC_1/weights/Initializer/truncated_normal/shape:0' shape=(2,) dtype=int32>,),\n",
       " (<tf.Tensor 'FC_1/weights/Initializer/truncated_normal/mean:0' shape=() dtype=float32>,),\n",
       " (<tf.Tensor 'FC_1/weights/Initializer/truncated_normal/stddev:0' shape=() dtype=float32>,),\n",
       " (<tf.Tensor 'FC_1/weights/Initializer/truncated_normal/TruncatedNormal:0' shape=(784, 256) dtype=float32>,),\n",
       " (<tf.Tensor 'FC_1/weights/Initializer/truncated_normal/mul:0' shape=(784, 256) dtype=float32>,),\n",
       " (<tf.Tensor 'FC_1/weights/Initializer/truncated_normal:0' shape=(784, 256) dtype=float32>,),\n",
       " (<tf.Tensor 'FC_1/weights:0' shape=(784, 256) dtype=float32_ref>,),\n",
       " (<tf.Tensor 'FC_1/weights/Assign:0' shape=(784, 256) dtype=float32_ref>,),\n",
       " (<tf.Tensor 'FC_1/weights/read:0' shape=(784, 256) dtype=float32>,),\n",
       " (<tf.Tensor 'FC_1/summaries/Rank:0' shape=() dtype=int32>,),\n",
       " (<tf.Tensor 'FC_1/summaries/range/start:0' shape=() dtype=int32>,),\n",
       " (<tf.Tensor 'FC_1/summaries/range/delta:0' shape=() dtype=int32>,),\n",
       " (<tf.Tensor 'FC_1/summaries/range:0' shape=(2,) dtype=int32>,),\n",
       " (<tf.Tensor 'FC_1/summaries/Mean:0' shape=() dtype=float32>,),\n",
       " (<tf.Tensor 'FC_1/summaries/mean/tags:0' shape=() dtype=string>,),\n",
       " (<tf.Tensor 'FC_1/summaries/mean:0' shape=() dtype=string>,),\n",
       " (<tf.Tensor 'FC_1/summaries/stddev/sub:0' shape=(784, 256) dtype=float32>,),\n",
       " (<tf.Tensor 'FC_1/summaries/stddev/Square:0' shape=(784, 256) dtype=float32>,),\n",
       " (<tf.Tensor 'FC_1/summaries/stddev/Const:0' shape=(2,) dtype=int32>,),\n",
       " (<tf.Tensor 'FC_1/summaries/stddev/Mean:0' shape=() dtype=float32>,),\n",
       " (<tf.Tensor 'FC_1/summaries/stddev/Sqrt:0' shape=() dtype=float32>,),\n",
       " (<tf.Tensor 'FC_1/summaries/stddev_1/tags:0' shape=() dtype=string>,),\n",
       " (<tf.Tensor 'FC_1/summaries/stddev_1:0' shape=() dtype=string>,),\n",
       " (<tf.Tensor 'FC_1/summaries/Rank_1:0' shape=() dtype=int32>,),\n",
       " (<tf.Tensor 'FC_1/summaries/range_1/start:0' shape=() dtype=int32>,),\n",
       " (<tf.Tensor 'FC_1/summaries/range_1/delta:0' shape=() dtype=int32>,),\n",
       " (<tf.Tensor 'FC_1/summaries/range_1:0' shape=(2,) dtype=int32>,),\n",
       " (<tf.Tensor 'FC_1/summaries/Max:0' shape=() dtype=float32>,),\n",
       " (<tf.Tensor 'FC_1/summaries/max/tags:0' shape=() dtype=string>,),\n",
       " (<tf.Tensor 'FC_1/summaries/max:0' shape=() dtype=string>,),\n",
       " (<tf.Tensor 'FC_1/summaries/Rank_2:0' shape=() dtype=int32>,),\n",
       " (<tf.Tensor 'FC_1/summaries/range_2/start:0' shape=() dtype=int32>,),\n",
       " (<tf.Tensor 'FC_1/summaries/range_2/delta:0' shape=() dtype=int32>,),\n",
       " (<tf.Tensor 'FC_1/summaries/range_2:0' shape=(2,) dtype=int32>,),\n",
       " (<tf.Tensor 'FC_1/summaries/Min:0' shape=() dtype=float32>,),\n",
       " (<tf.Tensor 'FC_1/summaries/min/tags:0' shape=() dtype=string>,),\n",
       " (<tf.Tensor 'FC_1/summaries/min:0' shape=() dtype=string>,),\n",
       " (<tf.Tensor 'FC_1/summaries/histogram/tag:0' shape=() dtype=string>,),\n",
       " (<tf.Tensor 'FC_1/summaries/histogram:0' shape=() dtype=string>,),\n",
       " (<tf.Tensor 'FC_1/bias/Initializer/Const:0' shape=(256,) dtype=float32>,),\n",
       " (<tf.Tensor 'FC_1/bias:0' shape=(256,) dtype=float32_ref>,),\n",
       " (<tf.Tensor 'FC_1/bias/Assign:0' shape=(256,) dtype=float32_ref>,),\n",
       " (<tf.Tensor 'FC_1/bias/read:0' shape=(256,) dtype=float32>,),\n",
       " (<tf.Tensor 'FC_1/summaries_1/Rank:0' shape=() dtype=int32>,),\n",
       " (<tf.Tensor 'FC_1/summaries_1/range/start:0' shape=() dtype=int32>,),\n",
       " (<tf.Tensor 'FC_1/summaries_1/range/delta:0' shape=() dtype=int32>,),\n",
       " (<tf.Tensor 'FC_1/summaries_1/range:0' shape=(1,) dtype=int32>,),\n",
       " (<tf.Tensor 'FC_1/summaries_1/Mean:0' shape=() dtype=float32>,),\n",
       " (<tf.Tensor 'FC_1/summaries_1/mean/tags:0' shape=() dtype=string>,),\n",
       " (<tf.Tensor 'FC_1/summaries_1/mean:0' shape=() dtype=string>,),\n",
       " (<tf.Tensor 'FC_1/summaries_1/stddev/sub:0' shape=(256,) dtype=float32>,),\n",
       " (<tf.Tensor 'FC_1/summaries_1/stddev/Square:0' shape=(256,) dtype=float32>,),\n",
       " (<tf.Tensor 'FC_1/summaries_1/stddev/Const:0' shape=(1,) dtype=int32>,),\n",
       " (<tf.Tensor 'FC_1/summaries_1/stddev/Mean:0' shape=() dtype=float32>,),\n",
       " (<tf.Tensor 'FC_1/summaries_1/stddev/Sqrt:0' shape=() dtype=float32>,),\n",
       " (<tf.Tensor 'FC_1/summaries_1/stddev_1/tags:0' shape=() dtype=string>,),\n",
       " (<tf.Tensor 'FC_1/summaries_1/stddev_1:0' shape=() dtype=string>,),\n",
       " (<tf.Tensor 'FC_1/summaries_1/Rank_1:0' shape=() dtype=int32>,),\n",
       " (<tf.Tensor 'FC_1/summaries_1/range_1/start:0' shape=() dtype=int32>,),\n",
       " (<tf.Tensor 'FC_1/summaries_1/range_1/delta:0' shape=() dtype=int32>,),\n",
       " (<tf.Tensor 'FC_1/summaries_1/range_1:0' shape=(1,) dtype=int32>,),\n",
       " (<tf.Tensor 'FC_1/summaries_1/Max:0' shape=() dtype=float32>,),\n",
       " (<tf.Tensor 'FC_1/summaries_1/max/tags:0' shape=() dtype=string>,),\n",
       " (<tf.Tensor 'FC_1/summaries_1/max:0' shape=() dtype=string>,),\n",
       " (<tf.Tensor 'FC_1/summaries_1/Rank_2:0' shape=() dtype=int32>,),\n",
       " (<tf.Tensor 'FC_1/summaries_1/range_2/start:0' shape=() dtype=int32>,),\n",
       " (<tf.Tensor 'FC_1/summaries_1/range_2/delta:0' shape=() dtype=int32>,),\n",
       " (<tf.Tensor 'FC_1/summaries_1/range_2:0' shape=(1,) dtype=int32>,),\n",
       " (<tf.Tensor 'FC_1/summaries_1/Min:0' shape=() dtype=float32>,),\n",
       " (<tf.Tensor 'FC_1/summaries_1/min/tags:0' shape=() dtype=string>,),\n",
       " (<tf.Tensor 'FC_1/summaries_1/min:0' shape=() dtype=string>,),\n",
       " (<tf.Tensor 'FC_1/summaries_1/histogram/tag:0' shape=() dtype=string>,),\n",
       " (<tf.Tensor 'FC_1/summaries_1/histogram:0' shape=() dtype=string>,),\n",
       " (<tf.Tensor 'FC_1/MatMul:0' shape=(?, 256) dtype=float32>,),\n",
       " (<tf.Tensor 'FC_1/Add:0' shape=(?, 256) dtype=float32>,),\n",
       " (<tf.Tensor 'FC_1/mul/x:0' shape=() dtype=float32>,),\n",
       " (<tf.Tensor 'FC_1/mul:0' shape=(?, 256) dtype=float32>,),\n",
       " (<tf.Tensor 'FC_1/Maximum:0' shape=(?, 256) dtype=float32>,),\n",
       " (<tf.Tensor 'FC_2/weights/Initializer/truncated_normal/shape:0' shape=(2,) dtype=int32>,),\n",
       " (<tf.Tensor 'FC_2/weights/Initializer/truncated_normal/mean:0' shape=() dtype=float32>,),\n",
       " (<tf.Tensor 'FC_2/weights/Initializer/truncated_normal/stddev:0' shape=() dtype=float32>,),\n",
       " (<tf.Tensor 'FC_2/weights/Initializer/truncated_normal/TruncatedNormal:0' shape=(256, 128) dtype=float32>,),\n",
       " (<tf.Tensor 'FC_2/weights/Initializer/truncated_normal/mul:0' shape=(256, 128) dtype=float32>,),\n",
       " (<tf.Tensor 'FC_2/weights/Initializer/truncated_normal:0' shape=(256, 128) dtype=float32>,),\n",
       " (<tf.Tensor 'FC_2/weights:0' shape=(256, 128) dtype=float32_ref>,),\n",
       " (<tf.Tensor 'FC_2/weights/Assign:0' shape=(256, 128) dtype=float32_ref>,),\n",
       " (<tf.Tensor 'FC_2/weights/read:0' shape=(256, 128) dtype=float32>,),\n",
       " (<tf.Tensor 'FC_2/summaries/Rank:0' shape=() dtype=int32>,),\n",
       " (<tf.Tensor 'FC_2/summaries/range/start:0' shape=() dtype=int32>,),\n",
       " (<tf.Tensor 'FC_2/summaries/range/delta:0' shape=() dtype=int32>,),\n",
       " (<tf.Tensor 'FC_2/summaries/range:0' shape=(2,) dtype=int32>,),\n",
       " (<tf.Tensor 'FC_2/summaries/Mean:0' shape=() dtype=float32>,),\n",
       " (<tf.Tensor 'FC_2/summaries/mean/tags:0' shape=() dtype=string>,),\n",
       " (<tf.Tensor 'FC_2/summaries/mean:0' shape=() dtype=string>,),\n",
       " (<tf.Tensor 'FC_2/summaries/stddev/sub:0' shape=(256, 128) dtype=float32>,),\n",
       " (<tf.Tensor 'FC_2/summaries/stddev/Square:0' shape=(256, 128) dtype=float32>,),\n",
       " (<tf.Tensor 'FC_2/summaries/stddev/Const:0' shape=(2,) dtype=int32>,),\n",
       " (<tf.Tensor 'FC_2/summaries/stddev/Mean:0' shape=() dtype=float32>,),\n",
       " (<tf.Tensor 'FC_2/summaries/stddev/Sqrt:0' shape=() dtype=float32>,),\n",
       " (<tf.Tensor 'FC_2/summaries/stddev_1/tags:0' shape=() dtype=string>,),\n",
       " (<tf.Tensor 'FC_2/summaries/stddev_1:0' shape=() dtype=string>,),\n",
       " (<tf.Tensor 'FC_2/summaries/Rank_1:0' shape=() dtype=int32>,),\n",
       " (<tf.Tensor 'FC_2/summaries/range_1/start:0' shape=() dtype=int32>,),\n",
       " (<tf.Tensor 'FC_2/summaries/range_1/delta:0' shape=() dtype=int32>,),\n",
       " (<tf.Tensor 'FC_2/summaries/range_1:0' shape=(2,) dtype=int32>,),\n",
       " (<tf.Tensor 'FC_2/summaries/Max:0' shape=() dtype=float32>,),\n",
       " (<tf.Tensor 'FC_2/summaries/max/tags:0' shape=() dtype=string>,),\n",
       " (<tf.Tensor 'FC_2/summaries/max:0' shape=() dtype=string>,),\n",
       " (<tf.Tensor 'FC_2/summaries/Rank_2:0' shape=() dtype=int32>,),\n",
       " (<tf.Tensor 'FC_2/summaries/range_2/start:0' shape=() dtype=int32>,),\n",
       " (<tf.Tensor 'FC_2/summaries/range_2/delta:0' shape=() dtype=int32>,),\n",
       " (<tf.Tensor 'FC_2/summaries/range_2:0' shape=(2,) dtype=int32>,),\n",
       " (<tf.Tensor 'FC_2/summaries/Min:0' shape=() dtype=float32>,),\n",
       " (<tf.Tensor 'FC_2/summaries/min/tags:0' shape=() dtype=string>,),\n",
       " (<tf.Tensor 'FC_2/summaries/min:0' shape=() dtype=string>,),\n",
       " (<tf.Tensor 'FC_2/summaries/histogram/tag:0' shape=() dtype=string>,),\n",
       " (<tf.Tensor 'FC_2/summaries/histogram:0' shape=() dtype=string>,),\n",
       " (<tf.Tensor 'FC_2/bias/Initializer/Const:0' shape=(128,) dtype=float32>,),\n",
       " (<tf.Tensor 'FC_2/bias:0' shape=(128,) dtype=float32_ref>,),\n",
       " (<tf.Tensor 'FC_2/bias/Assign:0' shape=(128,) dtype=float32_ref>,),\n",
       " (<tf.Tensor 'FC_2/bias/read:0' shape=(128,) dtype=float32>,),\n",
       " (<tf.Tensor 'FC_2/summaries_1/Rank:0' shape=() dtype=int32>,),\n",
       " (<tf.Tensor 'FC_2/summaries_1/range/start:0' shape=() dtype=int32>,),\n",
       " (<tf.Tensor 'FC_2/summaries_1/range/delta:0' shape=() dtype=int32>,),\n",
       " (<tf.Tensor 'FC_2/summaries_1/range:0' shape=(1,) dtype=int32>,),\n",
       " (<tf.Tensor 'FC_2/summaries_1/Mean:0' shape=() dtype=float32>,),\n",
       " (<tf.Tensor 'FC_2/summaries_1/mean/tags:0' shape=() dtype=string>,),\n",
       " (<tf.Tensor 'FC_2/summaries_1/mean:0' shape=() dtype=string>,),\n",
       " (<tf.Tensor 'FC_2/summaries_1/stddev/sub:0' shape=(128,) dtype=float32>,),\n",
       " (<tf.Tensor 'FC_2/summaries_1/stddev/Square:0' shape=(128,) dtype=float32>,),\n",
       " (<tf.Tensor 'FC_2/summaries_1/stddev/Const:0' shape=(1,) dtype=int32>,),\n",
       " (<tf.Tensor 'FC_2/summaries_1/stddev/Mean:0' shape=() dtype=float32>,),\n",
       " (<tf.Tensor 'FC_2/summaries_1/stddev/Sqrt:0' shape=() dtype=float32>,),\n",
       " (<tf.Tensor 'FC_2/summaries_1/stddev_1/tags:0' shape=() dtype=string>,),\n",
       " (<tf.Tensor 'FC_2/summaries_1/stddev_1:0' shape=() dtype=string>,),\n",
       " (<tf.Tensor 'FC_2/summaries_1/Rank_1:0' shape=() dtype=int32>,),\n",
       " (<tf.Tensor 'FC_2/summaries_1/range_1/start:0' shape=() dtype=int32>,),\n",
       " (<tf.Tensor 'FC_2/summaries_1/range_1/delta:0' shape=() dtype=int32>,),\n",
       " (<tf.Tensor 'FC_2/summaries_1/range_1:0' shape=(1,) dtype=int32>,),\n",
       " (<tf.Tensor 'FC_2/summaries_1/Max:0' shape=() dtype=float32>,),\n",
       " (<tf.Tensor 'FC_2/summaries_1/max/tags:0' shape=() dtype=string>,),\n",
       " (<tf.Tensor 'FC_2/summaries_1/max:0' shape=() dtype=string>,),\n",
       " (<tf.Tensor 'FC_2/summaries_1/Rank_2:0' shape=() dtype=int32>,),\n",
       " (<tf.Tensor 'FC_2/summaries_1/range_2/start:0' shape=() dtype=int32>,),\n",
       " (<tf.Tensor 'FC_2/summaries_1/range_2/delta:0' shape=() dtype=int32>,),\n",
       " (<tf.Tensor 'FC_2/summaries_1/range_2:0' shape=(1,) dtype=int32>,),\n",
       " (<tf.Tensor 'FC_2/summaries_1/Min:0' shape=() dtype=float32>,),\n",
       " (<tf.Tensor 'FC_2/summaries_1/min/tags:0' shape=() dtype=string>,),\n",
       " (<tf.Tensor 'FC_2/summaries_1/min:0' shape=() dtype=string>,),\n",
       " (<tf.Tensor 'FC_2/summaries_1/histogram/tag:0' shape=() dtype=string>,),\n",
       " (<tf.Tensor 'FC_2/summaries_1/histogram:0' shape=() dtype=string>,),\n",
       " (<tf.Tensor 'FC_2/MatMul:0' shape=(?, 128) dtype=float32>,),\n",
       " (<tf.Tensor 'FC_2/Add:0' shape=(?, 128) dtype=float32>,),\n",
       " (<tf.Tensor 'FC_2/mul/x:0' shape=() dtype=float32>,),\n",
       " (<tf.Tensor 'FC_2/mul:0' shape=(?, 128) dtype=float32>,),\n",
       " (<tf.Tensor 'FC_2/Maximum:0' shape=(?, 128) dtype=float32>,),\n",
       " (<tf.Tensor 'output_layer/weights/Initializer/truncated_normal/shape:0' shape=(2,) dtype=int32>,),\n",
       " (<tf.Tensor 'output_layer/weights/Initializer/truncated_normal/mean:0' shape=() dtype=float32>,),\n",
       " (<tf.Tensor 'output_layer/weights/Initializer/truncated_normal/stddev:0' shape=() dtype=float32>,),\n",
       " (<tf.Tensor 'output_layer/weights/Initializer/truncated_normal/TruncatedNormal:0' shape=(128, 10) dtype=float32>,),\n",
       " (<tf.Tensor 'output_layer/weights/Initializer/truncated_normal/mul:0' shape=(128, 10) dtype=float32>,),\n",
       " (<tf.Tensor 'output_layer/weights/Initializer/truncated_normal:0' shape=(128, 10) dtype=float32>,),\n",
       " (<tf.Tensor 'output_layer/weights:0' shape=(128, 10) dtype=float32_ref>,),\n",
       " (<tf.Tensor 'output_layer/weights/Assign:0' shape=(128, 10) dtype=float32_ref>,),\n",
       " (<tf.Tensor 'output_layer/weights/read:0' shape=(128, 10) dtype=float32>,),\n",
       " (<tf.Tensor 'output_layer/summaries/Rank:0' shape=() dtype=int32>,),\n",
       " (<tf.Tensor 'output_layer/summaries/range/start:0' shape=() dtype=int32>,),\n",
       " (<tf.Tensor 'output_layer/summaries/range/delta:0' shape=() dtype=int32>,),\n",
       " (<tf.Tensor 'output_layer/summaries/range:0' shape=(2,) dtype=int32>,),\n",
       " (<tf.Tensor 'output_layer/summaries/Mean:0' shape=() dtype=float32>,),\n",
       " (<tf.Tensor 'output_layer/summaries/mean/tags:0' shape=() dtype=string>,),\n",
       " (<tf.Tensor 'output_layer/summaries/mean:0' shape=() dtype=string>,),\n",
       " (<tf.Tensor 'output_layer/summaries/stddev/sub:0' shape=(128, 10) dtype=float32>,),\n",
       " (<tf.Tensor 'output_layer/summaries/stddev/Square:0' shape=(128, 10) dtype=float32>,),\n",
       " (<tf.Tensor 'output_layer/summaries/stddev/Const:0' shape=(2,) dtype=int32>,),\n",
       " (<tf.Tensor 'output_layer/summaries/stddev/Mean:0' shape=() dtype=float32>,),\n",
       " (<tf.Tensor 'output_layer/summaries/stddev/Sqrt:0' shape=() dtype=float32>,),\n",
       " (<tf.Tensor 'output_layer/summaries/stddev_1/tags:0' shape=() dtype=string>,),\n",
       " (<tf.Tensor 'output_layer/summaries/stddev_1:0' shape=() dtype=string>,),\n",
       " (<tf.Tensor 'output_layer/summaries/Rank_1:0' shape=() dtype=int32>,),\n",
       " (<tf.Tensor 'output_layer/summaries/range_1/start:0' shape=() dtype=int32>,),\n",
       " (<tf.Tensor 'output_layer/summaries/range_1/delta:0' shape=() dtype=int32>,),\n",
       " (<tf.Tensor 'output_layer/summaries/range_1:0' shape=(2,) dtype=int32>,),\n",
       " (<tf.Tensor 'output_layer/summaries/Max:0' shape=() dtype=float32>,),\n",
       " (<tf.Tensor 'output_layer/summaries/max/tags:0' shape=() dtype=string>,),\n",
       " (<tf.Tensor 'output_layer/summaries/max:0' shape=() dtype=string>,),\n",
       " (<tf.Tensor 'output_layer/summaries/Rank_2:0' shape=() dtype=int32>,),\n",
       " (<tf.Tensor 'output_layer/summaries/range_2/start:0' shape=() dtype=int32>,),\n",
       " (<tf.Tensor 'output_layer/summaries/range_2/delta:0' shape=() dtype=int32>,),\n",
       " (<tf.Tensor 'output_layer/summaries/range_2:0' shape=(2,) dtype=int32>,),\n",
       " (<tf.Tensor 'output_layer/summaries/Min:0' shape=() dtype=float32>,),\n",
       " (<tf.Tensor 'output_layer/summaries/min/tags:0' shape=() dtype=string>,),\n",
       " (<tf.Tensor 'output_layer/summaries/min:0' shape=() dtype=string>,),\n",
       " (<tf.Tensor 'output_layer/summaries/histogram/tag:0' shape=() dtype=string>,),\n",
       " (<tf.Tensor 'output_layer/summaries/histogram:0' shape=() dtype=string>,),\n",
       " (<tf.Tensor 'output_layer/bias/Initializer/Const:0' shape=(10,) dtype=float32>,),\n",
       " (<tf.Tensor 'output_layer/bias:0' shape=(10,) dtype=float32_ref>,),\n",
       " (<tf.Tensor 'output_layer/bias/Assign:0' shape=(10,) dtype=float32_ref>,),\n",
       " (<tf.Tensor 'output_layer/bias/read:0' shape=(10,) dtype=float32>,),\n",
       " (<tf.Tensor 'output_layer/summaries_1/Rank:0' shape=() dtype=int32>,),\n",
       " (<tf.Tensor 'output_layer/summaries_1/range/start:0' shape=() dtype=int32>,),\n",
       " (<tf.Tensor 'output_layer/summaries_1/range/delta:0' shape=() dtype=int32>,),\n",
       " (<tf.Tensor 'output_layer/summaries_1/range:0' shape=(1,) dtype=int32>,),\n",
       " (<tf.Tensor 'output_layer/summaries_1/Mean:0' shape=() dtype=float32>,),\n",
       " (<tf.Tensor 'output_layer/summaries_1/mean/tags:0' shape=() dtype=string>,),\n",
       " (<tf.Tensor 'output_layer/summaries_1/mean:0' shape=() dtype=string>,),\n",
       " (<tf.Tensor 'output_layer/summaries_1/stddev/sub:0' shape=(10,) dtype=float32>,),\n",
       " (<tf.Tensor 'output_layer/summaries_1/stddev/Square:0' shape=(10,) dtype=float32>,),\n",
       " (<tf.Tensor 'output_layer/summaries_1/stddev/Const:0' shape=(1,) dtype=int32>,),\n",
       " (<tf.Tensor 'output_layer/summaries_1/stddev/Mean:0' shape=() dtype=float32>,),\n",
       " (<tf.Tensor 'output_layer/summaries_1/stddev/Sqrt:0' shape=() dtype=float32>,),\n",
       " (<tf.Tensor 'output_layer/summaries_1/stddev_1/tags:0' shape=() dtype=string>,),\n",
       " (<tf.Tensor 'output_layer/summaries_1/stddev_1:0' shape=() dtype=string>,),\n",
       " (<tf.Tensor 'output_layer/summaries_1/Rank_1:0' shape=() dtype=int32>,),\n",
       " (<tf.Tensor 'output_layer/summaries_1/range_1/start:0' shape=() dtype=int32>,),\n",
       " (<tf.Tensor 'output_layer/summaries_1/range_1/delta:0' shape=() dtype=int32>,),\n",
       " (<tf.Tensor 'output_layer/summaries_1/range_1:0' shape=(1,) dtype=int32>,),\n",
       " (<tf.Tensor 'output_layer/summaries_1/Max:0' shape=() dtype=float32>,),\n",
       " (<tf.Tensor 'output_layer/summaries_1/max/tags:0' shape=() dtype=string>,),\n",
       " (<tf.Tensor 'output_layer/summaries_1/max:0' shape=() dtype=string>,),\n",
       " (<tf.Tensor 'output_layer/summaries_1/Rank_2:0' shape=() dtype=int32>,),\n",
       " (<tf.Tensor 'output_layer/summaries_1/range_2/start:0' shape=() dtype=int32>,),\n",
       " (<tf.Tensor 'output_layer/summaries_1/range_2/delta:0' shape=() dtype=int32>,),\n",
       " (<tf.Tensor 'output_layer/summaries_1/range_2:0' shape=(1,) dtype=int32>,),\n",
       " (<tf.Tensor 'output_layer/summaries_1/Min:0' shape=() dtype=float32>,),\n",
       " (<tf.Tensor 'output_layer/summaries_1/min/tags:0' shape=() dtype=string>,),\n",
       " (<tf.Tensor 'output_layer/summaries_1/min:0' shape=() dtype=string>,),\n",
       " (<tf.Tensor 'output_layer/summaries_1/histogram/tag:0' shape=() dtype=string>,),\n",
       " (<tf.Tensor 'output_layer/summaries_1/histogram:0' shape=() dtype=string>,),\n",
       " (<tf.Tensor 'output_layer/MatMul:0' shape=(?, 10) dtype=float32>,),\n",
       " (<tf.Tensor 'output_layer/Add:0' shape=(?, 10) dtype=float32>,)]"
      ]
     },
     "execution_count": 7,
     "metadata": {},
     "output_type": "execute_result"
    }
   ],
   "source": [
    "sess = tf.Session()\n",
    "op = sess.graph.get_operations()\n",
    "[m.values() for m in op]"
   ]
  },
  {
   "cell_type": "code",
   "execution_count": 8,
   "metadata": {
    "collapsed": false
   },
   "outputs": [
    {
     "data": {
      "text/plain": [
       "[None, 10]"
      ]
     },
     "execution_count": 8,
     "metadata": {},
     "output_type": "execute_result"
    }
   ],
   "source": [
    "M.model.get_shape().as_list()"
   ]
  },
  {
   "cell_type": "code",
   "execution_count": 9,
   "metadata": {
    "collapsed": false,
    "deletable": true,
    "editable": true
   },
   "outputs": [],
   "source": [
    "M.optimize(optimizer = \"adam\")"
   ]
  },
  {
   "cell_type": "code",
   "execution_count": 10,
   "metadata": {
    "collapsed": false,
    "deletable": true,
    "editable": true
   },
   "outputs": [
    {
     "name": "stdout",
     "output_type": "stream",
     "text": [
      "Accuracy: 0.0758 Error: 58.3867\n",
      "Accuracy: 0.4617 Error: 3.04674\n",
      "Accuracy: 0.6466 Error: 3.25431\n",
      "Accuracy: 0.7199 Error: 1.74376\n",
      "Accuracy: 0.7677 Error: 2.36511\n",
      "Accuracy: 0.7972 Error: 1.83487\n",
      "Accuracy: 0.819 Error: 0.76356\n",
      "Accuracy: 0.8402 Error: 1.13533\n",
      "Accuracy: 0.8457 Error: 1.48462\n",
      "Accuracy: 0.8586 Error: 0.345599\n",
      "Accuracy: 0.8613 Error: 1.94782\n",
      "Accuracy: 0.8699 Error: 0.890783\n",
      "Accuracy: 0.8777 Error: 0.54309\n",
      "Accuracy: 0.8758 Error: 0.869033\n",
      "Accuracy: 0.8814 Error: 0.432802\n",
      "Accuracy: 0.8866 Error: 0.288447\n",
      "Accuracy: 0.8911 Error: 0.365969\n",
      "Accuracy: 0.895 Error: 0.282532\n",
      "Accuracy: 0.8972 Error: 1.02332\n",
      "Accuracy: 0.8925 Error: nan\n",
      "Accuracy: 0.8919 Error: nan\n"
     ]
    },
    {
     "ename": "KeyboardInterrupt",
     "evalue": "",
     "output_type": "error",
     "traceback": [
      "\u001b[0;31m---------------------------------------------------------------------------\u001b[0m",
      "\u001b[0;31mKeyboardInterrupt\u001b[0m                         Traceback (most recent call last)",
      "\u001b[0;32m<ipython-input-10-314a4e8d5a08>\u001b[0m in \u001b[0;36m<module>\u001b[0;34m()\u001b[0m\n\u001b[0;32m----> 1\u001b[0;31m \u001b[0mM\u001b[0m\u001b[0;34m.\u001b[0m\u001b[0mtrain\u001b[0m\u001b[0;34m(\u001b[0m\u001b[0msummary_dir\u001b[0m\u001b[0;34m=\u001b[0m\u001b[0;34m\"/tmp/tensorflowlogs/adam\"\u001b[0m\u001b[0;34m,\u001b[0m \u001b[0msave_path\u001b[0m\u001b[0;34m=\u001b[0m\u001b[0;34m\"/tmp/model_adam\"\u001b[0m\u001b[0;34m)\u001b[0m\u001b[0;34m\u001b[0m\u001b[0m\n\u001b[0m",
      "\u001b[0;32m/Users/PrakashR/Downloads/Athenasight/lecture_datagiri_deeplearning_tensorflow_Feb17/BenchMarking_Optimizers/tensorflow_mlp.py\u001b[0m in \u001b[0;36mtrain\u001b[0;34m(self, batch_size, epochs, summary_dir, save_path)\u001b[0m\n\u001b[1;32m     80\u001b[0m             \u001b[0;32mfor\u001b[0m \u001b[0mi\u001b[0m \u001b[0;32min\u001b[0m \u001b[0mrange\u001b[0m\u001b[0;34m(\u001b[0m\u001b[0mtotal_iter\u001b[0m\u001b[0;34m)\u001b[0m\u001b[0;34m:\u001b[0m\u001b[0;34m\u001b[0m\u001b[0m\n\u001b[1;32m     81\u001b[0m                 \u001b[0;31m#print (\"[Total Iterations]\",len(self.data)/batch_size)\u001b[0m\u001b[0;34m\u001b[0m\u001b[0;34m\u001b[0m\u001b[0m\n\u001b[0;32m---> 82\u001b[0;31m                 \u001b[0msummary\u001b[0m\u001b[0;34m,\u001b[0m \u001b[0mce\u001b[0m\u001b[0;34m,\u001b[0m \u001b[0m_\u001b[0m \u001b[0;34m=\u001b[0m \u001b[0msess\u001b[0m\u001b[0;34m.\u001b[0m\u001b[0mrun\u001b[0m\u001b[0;34m(\u001b[0m\u001b[0;34m[\u001b[0m\u001b[0mmerged\u001b[0m\u001b[0;34m,\u001b[0m \u001b[0mself\u001b[0m\u001b[0;34m.\u001b[0m\u001b[0m_error\u001b[0m\u001b[0;34m,\u001b[0m\u001b[0mself\u001b[0m\u001b[0;34m.\u001b[0m\u001b[0m_optimize\u001b[0m\u001b[0;34m]\u001b[0m\u001b[0;34m,\u001b[0m \u001b[0mfeed_dict\u001b[0m\u001b[0;34m=\u001b[0m\u001b[0;34m{\u001b[0m\u001b[0mself\u001b[0m\u001b[0;34m.\u001b[0m\u001b[0mx\u001b[0m\u001b[0;34m:\u001b[0m \u001b[0mself\u001b[0m\u001b[0;34m.\u001b[0m\u001b[0mdata\u001b[0m\u001b[0;34m[\u001b[0m\u001b[0mi\u001b[0m\u001b[0;34m*\u001b[0m\u001b[0mbatch_size\u001b[0m\u001b[0;34m:\u001b[0m\u001b[0;34m(\u001b[0m\u001b[0mi\u001b[0m\u001b[0;34m+\u001b[0m\u001b[0;36m1\u001b[0m\u001b[0;34m)\u001b[0m\u001b[0;34m*\u001b[0m\u001b[0mbatch_size\u001b[0m\u001b[0;34m,\u001b[0m\u001b[0;34m]\u001b[0m\u001b[0;34m,\u001b[0m \u001b[0mself\u001b[0m\u001b[0;34m.\u001b[0m\u001b[0my\u001b[0m\u001b[0;34m:\u001b[0m \u001b[0mself\u001b[0m\u001b[0;34m.\u001b[0m\u001b[0mtarget\u001b[0m\u001b[0;34m[\u001b[0m\u001b[0mi\u001b[0m\u001b[0;34m*\u001b[0m\u001b[0mbatch_size\u001b[0m\u001b[0;34m:\u001b[0m\u001b[0;34m(\u001b[0m\u001b[0mi\u001b[0m\u001b[0;34m+\u001b[0m\u001b[0;36m1\u001b[0m\u001b[0;34m)\u001b[0m\u001b[0;34m*\u001b[0m\u001b[0mbatch_size\u001b[0m\u001b[0;34m,\u001b[0m\u001b[0;34m]\u001b[0m\u001b[0;34m}\u001b[0m\u001b[0;34m)\u001b[0m\u001b[0;34m\u001b[0m\u001b[0m\n\u001b[0m\u001b[1;32m     83\u001b[0m                 \u001b[0mtraining_writer\u001b[0m\u001b[0;34m.\u001b[0m\u001b[0madd_summary\u001b[0m\u001b[0;34m(\u001b[0m\u001b[0msummary\u001b[0m\u001b[0;34m,\u001b[0m \u001b[0mi\u001b[0m\u001b[0;34m)\u001b[0m\u001b[0;34m\u001b[0m\u001b[0m\n\u001b[1;32m     84\u001b[0m                 \u001b[0;32mif\u001b[0m \u001b[0mi\u001b[0m \u001b[0;34m%\u001b[0m \u001b[0;36m100\u001b[0m \u001b[0;34m==\u001b[0m \u001b[0;36m0\u001b[0m\u001b[0;34m:\u001b[0m\u001b[0;34m\u001b[0m\u001b[0m\n",
      "\u001b[0;32m/Users/PrakashR/anaconda/envs/tensorflow/lib/python3.5/site-packages/tensorflow/python/client/session.py\u001b[0m in \u001b[0;36mrun\u001b[0;34m(self, fetches, feed_dict, options, run_metadata)\u001b[0m\n\u001b[1;32m    765\u001b[0m     \u001b[0;32mtry\u001b[0m\u001b[0;34m:\u001b[0m\u001b[0;34m\u001b[0m\u001b[0m\n\u001b[1;32m    766\u001b[0m       result = self._run(None, fetches, feed_dict, options_ptr,\n\u001b[0;32m--> 767\u001b[0;31m                          run_metadata_ptr)\n\u001b[0m\u001b[1;32m    768\u001b[0m       \u001b[0;32mif\u001b[0m \u001b[0mrun_metadata\u001b[0m\u001b[0;34m:\u001b[0m\u001b[0;34m\u001b[0m\u001b[0m\n\u001b[1;32m    769\u001b[0m         \u001b[0mproto_data\u001b[0m \u001b[0;34m=\u001b[0m \u001b[0mtf_session\u001b[0m\u001b[0;34m.\u001b[0m\u001b[0mTF_GetBuffer\u001b[0m\u001b[0;34m(\u001b[0m\u001b[0mrun_metadata_ptr\u001b[0m\u001b[0;34m)\u001b[0m\u001b[0;34m\u001b[0m\u001b[0m\n",
      "\u001b[0;32m/Users/PrakashR/anaconda/envs/tensorflow/lib/python3.5/site-packages/tensorflow/python/client/session.py\u001b[0m in \u001b[0;36m_run\u001b[0;34m(self, handle, fetches, feed_dict, options, run_metadata)\u001b[0m\n\u001b[1;32m    950\u001b[0m \u001b[0;34m\u001b[0m\u001b[0m\n\u001b[1;32m    951\u001b[0m     \u001b[0;31m# Create a fetch handler to take care of the structure of fetches.\u001b[0m\u001b[0;34m\u001b[0m\u001b[0;34m\u001b[0m\u001b[0m\n\u001b[0;32m--> 952\u001b[0;31m     \u001b[0mfetch_handler\u001b[0m \u001b[0;34m=\u001b[0m \u001b[0m_FetchHandler\u001b[0m\u001b[0;34m(\u001b[0m\u001b[0mself\u001b[0m\u001b[0;34m.\u001b[0m\u001b[0m_graph\u001b[0m\u001b[0;34m,\u001b[0m \u001b[0mfetches\u001b[0m\u001b[0;34m,\u001b[0m \u001b[0mfeed_dict_string\u001b[0m\u001b[0;34m)\u001b[0m\u001b[0;34m\u001b[0m\u001b[0m\n\u001b[0m\u001b[1;32m    953\u001b[0m \u001b[0;34m\u001b[0m\u001b[0m\n\u001b[1;32m    954\u001b[0m     \u001b[0;31m# Run request and get response.\u001b[0m\u001b[0;34m\u001b[0m\u001b[0;34m\u001b[0m\u001b[0m\n",
      "\u001b[0;32m/Users/PrakashR/anaconda/envs/tensorflow/lib/python3.5/site-packages/tensorflow/python/client/session.py\u001b[0m in \u001b[0;36m__init__\u001b[0;34m(self, graph, fetches, feeds)\u001b[0m\n\u001b[1;32m    413\u001b[0m     \u001b[0mself\u001b[0m\u001b[0;34m.\u001b[0m\u001b[0m_fetch_handles\u001b[0m \u001b[0;34m=\u001b[0m \u001b[0;34m{\u001b[0m\u001b[0;34m}\u001b[0m\u001b[0;34m\u001b[0m\u001b[0m\n\u001b[1;32m    414\u001b[0m     \u001b[0;32mfor\u001b[0m \u001b[0mfetch\u001b[0m \u001b[0;32min\u001b[0m \u001b[0mself\u001b[0m\u001b[0;34m.\u001b[0m\u001b[0m_fetch_mapper\u001b[0m\u001b[0;34m.\u001b[0m\u001b[0munique_fetches\u001b[0m\u001b[0;34m(\u001b[0m\u001b[0;34m)\u001b[0m\u001b[0;34m:\u001b[0m\u001b[0;34m\u001b[0m\u001b[0m\n\u001b[0;32m--> 415\u001b[0;31m       \u001b[0mfetch_name\u001b[0m \u001b[0;34m=\u001b[0m \u001b[0mcompat\u001b[0m\u001b[0;34m.\u001b[0m\u001b[0mas_bytes\u001b[0m\u001b[0;34m(\u001b[0m\u001b[0mfetch\u001b[0m\u001b[0;34m.\u001b[0m\u001b[0mname\u001b[0m\u001b[0;34m)\u001b[0m\u001b[0;34m\u001b[0m\u001b[0m\n\u001b[0m\u001b[1;32m    416\u001b[0m       \u001b[0;32mif\u001b[0m \u001b[0misinstance\u001b[0m\u001b[0;34m(\u001b[0m\u001b[0mfetch\u001b[0m\u001b[0;34m,\u001b[0m \u001b[0mops\u001b[0m\u001b[0;34m.\u001b[0m\u001b[0mOperation\u001b[0m\u001b[0;34m)\u001b[0m\u001b[0;34m:\u001b[0m\u001b[0;34m\u001b[0m\u001b[0m\n\u001b[1;32m    417\u001b[0m         \u001b[0mself\u001b[0m\u001b[0;34m.\u001b[0m\u001b[0m_assert_fetchable\u001b[0m\u001b[0;34m(\u001b[0m\u001b[0mgraph\u001b[0m\u001b[0;34m,\u001b[0m \u001b[0mfetch\u001b[0m\u001b[0;34m)\u001b[0m\u001b[0;34m\u001b[0m\u001b[0m\n",
      "\u001b[0;32m/Users/PrakashR/anaconda/envs/tensorflow/lib/python3.5/site-packages/tensorflow/python/util/compat.py\u001b[0m in \u001b[0;36mas_bytes\u001b[0;34m(bytes_or_text, encoding)\u001b[0m\n\u001b[1;32m     58\u001b[0m   \"\"\"\n\u001b[1;32m     59\u001b[0m   \u001b[0;32mif\u001b[0m \u001b[0misinstance\u001b[0m\u001b[0;34m(\u001b[0m\u001b[0mbytes_or_text\u001b[0m\u001b[0;34m,\u001b[0m \u001b[0m_six\u001b[0m\u001b[0;34m.\u001b[0m\u001b[0mtext_type\u001b[0m\u001b[0;34m)\u001b[0m\u001b[0;34m:\u001b[0m\u001b[0;34m\u001b[0m\u001b[0m\n\u001b[0;32m---> 60\u001b[0;31m     \u001b[0;32mreturn\u001b[0m \u001b[0mbytes_or_text\u001b[0m\u001b[0;34m.\u001b[0m\u001b[0mencode\u001b[0m\u001b[0;34m(\u001b[0m\u001b[0mencoding\u001b[0m\u001b[0;34m)\u001b[0m\u001b[0;34m\u001b[0m\u001b[0m\n\u001b[0m\u001b[1;32m     61\u001b[0m   \u001b[0;32melif\u001b[0m \u001b[0misinstance\u001b[0m\u001b[0;34m(\u001b[0m\u001b[0mbytes_or_text\u001b[0m\u001b[0;34m,\u001b[0m \u001b[0mbytes\u001b[0m\u001b[0;34m)\u001b[0m\u001b[0;34m:\u001b[0m\u001b[0;34m\u001b[0m\u001b[0m\n\u001b[1;32m     62\u001b[0m     \u001b[0;32mreturn\u001b[0m \u001b[0mbytes_or_text\u001b[0m\u001b[0;34m\u001b[0m\u001b[0m\n",
      "\u001b[0;31mKeyboardInterrupt\u001b[0m: "
     ]
    }
   ],
   "source": [
    "M.train(summary_dir=\"/tmp/tensorflowlogs/adam\", save_path=\"/tmp/model_adam\")"
   ]
  },
  {
   "cell_type": "code",
   "execution_count": null,
   "metadata": {
    "collapsed": true,
    "deletable": true,
    "editable": true
   },
   "outputs": [],
   "source": []
  }
 ],
 "metadata": {
  "kernelspec": {
   "display_name": "Python 3",
   "language": "python",
   "name": "python3"
  },
  "language_info": {
   "codemirror_mode": {
    "name": "ipython",
    "version": 3
   },
   "file_extension": ".py",
   "mimetype": "text/x-python",
   "name": "python",
   "nbconvert_exporter": "python",
   "pygments_lexer": "ipython3",
   "version": "3.5.2"
  },
  "widgets": {
   "state": {},
   "version": "1.1.2"
  }
 },
 "nbformat": 4,
 "nbformat_minor": 2
}
